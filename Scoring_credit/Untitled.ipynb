{
 "cells": [
  {
   "cell_type": "code",
   "execution_count": null,
   "id": "cb370309-f7d0-46f1-99b5-aade6848c6e3",
   "metadata": {},
   "outputs": [],
   "source": [
    "import flask\n"
   ]
  },
  {
   "cell_type": "code",
   "execution_count": null,
   "id": "56b5e7ac-2250-4c10-a832-5577f4e274a5",
   "metadata": {},
   "outputs": [],
   "source": []
  },
  {
   "cell_type": "code",
   "execution_count": null,
   "id": "da868475-3d16-44c1-b740-e208e237f32f",
   "metadata": {},
   "outputs": [],
   "source": []
  }
 ],
 "metadata": {
  "kernelspec": {
   "display_name": "Python 3",
   "language": "python",
   "name": "python3"
  },
  "language_info": {
   "name": ""
  }
 },
 "nbformat": 4,
 "nbformat_minor": 5
}
